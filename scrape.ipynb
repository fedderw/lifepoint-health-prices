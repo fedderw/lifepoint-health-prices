{
 "cells": [
  {
   "cell_type": "code",
   "execution_count": 1,
   "metadata": {},
   "outputs": [],
   "source": [
    "# !pip install bs4\r\n",
    "\r\n",
    "# Imports\r\n",
    "import requests\r\n",
    "import numpy as np\r\n",
    "import pandas as pd\r\n",
    "from bs4 import BeautifulSoup\r\n",
    "import matplotlib.pyplot as plt\r\n",
    "import re\r\n",
    "\r\n",
    "%matplotlib inline"
   ]
  },
  {
   "cell_type": "markdown",
   "metadata": {},
   "source": [
    "This is the result of \"copy selector\" for \r\n",
    "`#main > div:nth-child(2) > p:nth-child(2) > a:nth-child(1)`\r\n",
    "\r\n",
    "```\r\n",
    "<a href=\"/Content/Uploads/Bolivar Medical/files/640923090_Bolivar_Medical_Center_Standard_Charges_12192020.zip\">here</a>\r\n",
    "```\r\n",
    "This the result of \"copy selector\" for\r\n",
    "`#Content_C002_Col00 > article > aside > div.col-xs-12.fifth-child.additional-info > p:nth-child(2) > a`\r\n",
    "\r\n",
    "```\r\n",
    "<a href=\"http://www.mmclc.org/\">Visit Hospital Website</a>\r\n",
    "```\r\n",
    "\r\n",
    "Inline-style: \r\n",
    "![alt text](https://github.com/nestauk/im-tutorials/blob/3-ysi-tutorial/figures/Web-Scraping/scrape-pipeline.png?raw=1 \"workflow\")"
   ]
  },
  {
   "cell_type": "code",
   "execution_count": 25,
   "metadata": {},
   "outputs": [
    {
     "data": {
      "text/plain": "list"
     },
     "execution_count": 25,
     "metadata": {},
     "output_type": "execute_result"
    }
   ],
   "source": [
    "hosp_url=visit_hospital[0]+\"understanding-billing-and-charges\"\r\n",
    "\r\n",
    "# Use requests to retrieve data from a given URL\r\n",
    "hosp_res=requests.get(hosp_url)\r\n",
    "\r\n",
    "# Parse the whole HTML page using BeautifulSoup\r\n",
    "hosp_soup = BeautifulSoup(hosp_res.text, 'html.parser')\r\n",
    "\r\n",
    "# Title of the parsed page\r\n",
    "hosp_soup.title\r\n",
    "\r\n",
    "BeautifulSoup(hosp_res.text, 'html.parser').find\r\n",
    "\r\n",
    "# Find all links\r\n",
    "# links = [link.get('href') for link in hosp_soup.find_all('a')]\r\n",
    "# links_billing = [a['href'] for a in hosp_soup.find_all('a', href=True) if a.text=='here']\r\n",
    "links_billing = [a['href'] for a in hosp_soup.find_all('a', href=True) if a['href'].endswith('.zip')]\r\n",
    "(links_billing)\r\n"
   ]
  },
  {
   "cell_type": "code",
   "execution_count": 38,
   "metadata": {},
   "outputs": [],
   "source": [
    "lpurl=r\"http://www.lifepointhealth.net/making-communities-healthier/communities/bolivar-medical-center?loc=c1c283fd-ba54-4ef9-b71e-ebabeda3bea7\"\r\n",
    "\r\n",
    "def get_hosp_url(url):\r\n",
    "    # Use requests to retrieve data from a given URL\r\n",
    "    lp_res=requests.get(url)\r\n",
    "\r\n",
    "    # Parse the whole HTML page using BeautifulSoup\r\n",
    "    lp_soup = BeautifulSoup(lp_res.text, 'html.parser')\r\n",
    "\r\n",
    "    # Find all links\r\n",
    "    visit_hospital = [a['href'] for a in lp_soup.find_all('a', href=True) if a.text=='Visit Hospital Website']\r\n",
    "    \r\n",
    "    # check if there is stuff in there\r\n",
    "    if len(visit_hospital)>0:\r\n",
    "        new_url = visit_hospital[0]\r\n",
    "    else:\r\n",
    "        new_url=np.nan\r\n",
    "    \r\n",
    "    return new_url\r\n",
    "    \r\n",
    "# Add homepage and keep the unique links\r\n",
    "# fixed_links = set([''.join([lpurl, link]) for link in links if link])\r\n",
    "# fixed_links"
   ]
  },
  {
   "cell_type": "code",
   "execution_count": 50,
   "metadata": {},
   "outputs": [],
   "source": [
    "def get_zip_url(url):\r\n",
    "    \"\"\"gets link for zip file\r\n",
    "\r\n",
    "    Args:\r\n",
    "        url (string): link to webpage containing standard charges and billing information\r\n",
    "\r\n",
    "    Returns:\r\n",
    "        [type]: zip file containing xml of standard charges\r\n",
    "    \"\"\"\r\n",
    "    \r\n",
    "    try:\r\n",
    "        # create link based on pattern among lifepoint stuff\r\n",
    "        # hosp_url=url+\"understanding-billing-and-charges\"\r\n",
    "        hosp_url=url\r\n",
    "        # Use requests to retrieve data from a given URL\r\n",
    "        hosp_res=requests.get(hosp_url)\r\n",
    "\r\n",
    "        # Parse the whole HTML page using BeautifulSoup\r\n",
    "        hosp_soup = BeautifulSoup(hosp_res.text, 'html.parser')\r\n",
    "\r\n",
    "        # Title of the parsed page\r\n",
    "        hosp_soup.title\r\n",
    "\r\n",
    "        BeautifulSoup(hosp_res.text, 'html.parser').find\r\n",
    "\r\n",
    "        # Find all links\r\n",
    "        # links = [link.get('href') for link in hosp_soup.find_all('a')]\r\n",
    "        # links_billing = [a['href'] for a in hosp_soup.find_all('a', href=True) if a.text=='here']\r\n",
    "        links_billing = [a['href'] for a in hosp_soup.find_all('a', href=True) if (a['href'].endswith('.zip') | a['href'].endswith('.xml'))]\r\n",
    "        \r\n",
    "        # check if there is stuff in there\r\n",
    "        if len(links_billing)>0:\r\n",
    "            new_url = links_billing[0]\r\n",
    "        # elif:\r\n",
    "        #     new_url = [a['href'] for a in hosp_soup.find_all('a', href=True) if a['href'].endswith('.xlsx')][0]\r\n",
    "        else:\r\n",
    "            new_url=np.nan\r\n",
    "    except:\r\n",
    "        new_url=np.nan\r\n",
    "    \r\n",
    "    return new_url\r\n"
   ]
  },
  {
   "cell_type": "code",
   "execution_count": 22,
   "metadata": {},
   "outputs": [
    {
     "name": "stdout",
     "output_type": "stream",
     "text": [
      "['/Content/Uploads/Bolivar Medical/files/640923090_Bolivar_Medical_Center_Standard_Charges_12192020.zip']\n"
     ]
    }
   ],
   "source": [
    "# just fetch the zip files\r\n",
    "# filtered_list= list(filter(lambda x: x.endswith('.zip'), links_billing))\r\n"
   ]
  },
  {
   "cell_type": "code",
   "execution_count": 51,
   "metadata": {},
   "outputs": [
    {
     "name": "stdout",
     "output_type": "stream",
     "text": [
      "<class 'pandas.core.frame.DataFrame'>\n",
      "RangeIndex: 86 entries, 0 to 85\n",
      "Data columns (total 12 columns):\n",
      " #   Column              Non-Null Count  Dtype  \n",
      "---  ------              --------------  -----  \n",
      " 0   full redirect link  86 non-null     object \n",
      " 1   hospital?           86 non-null     bool   \n",
      " 2   npi                 35 non-null     float64\n",
      " 3   website             86 non-null     object \n",
      " 4   charge page         86 non-null     object \n",
      " 5   name                86 non-null     object \n",
      " 6   notes               3 non-null      object \n",
      " 7   onetab              34 non-null     object \n",
      " 8   Unnamed:_9          22 non-null     object \n",
      " 9   Unnamed:_10         13 non-null     object \n",
      " 10  website2            76 non-null     object \n",
      " 11  zip_url             55 non-null     object \n",
      "dtypes: bool(1), float64(1), object(10)\n",
      "memory usage: 7.6+ KB\n",
      "None\n"
     ]
    },
    {
     "data": {
      "text/html": "<div>\n<style scoped>\n    .dataframe tbody tr th:only-of-type {\n        vertical-align: middle;\n    }\n\n    .dataframe tbody tr th {\n        vertical-align: top;\n    }\n\n    .dataframe thead th {\n        text-align: right;\n    }\n</style>\n<table border=\"1\" class=\"dataframe\">\n  <thead>\n    <tr style=\"text-align: right;\">\n      <th></th>\n      <th>full redirect link</th>\n      <th>hospital?</th>\n      <th>npi</th>\n      <th>website</th>\n      <th>charge page</th>\n      <th>name</th>\n      <th>notes</th>\n      <th>onetab</th>\n      <th>Unnamed:_9</th>\n      <th>Unnamed:_10</th>\n      <th>website2</th>\n      <th>zip_url</th>\n    </tr>\n  </thead>\n  <tbody>\n    <tr>\n      <th>0</th>\n      <td>http://www.lifepointhealth.net/making-communit...</td>\n      <td>True</td>\n      <td>1.821078e+09</td>\n      <td>https://www.andalusiahealth.com/</td>\n      <td>https://www.andalusiahealth.com/understanding-...</td>\n      <td>andalusia-regional-hospital</td>\n      <td>NaN</td>\n      <td>NaN</td>\n      <td>NaN</td>\n      <td>NaN</td>\n      <td>http://www.andalusiahealth.com/</td>\n      <td>/Content/Uploads/Andalusia Health/images/63079...</td>\n    </tr>\n    <tr>\n      <th>1</th>\n      <td>http://www.lifepointhealth.net/making-communit...</td>\n      <td>True</td>\n      <td>1.457321e+09</td>\n      <td>https://www.ashleyregional.com/</td>\n      <td>https://www.ashleyregional.com/understanding-b...</td>\n      <td>ashley-regional-medical-center</td>\n      <td>NaN</td>\n      <td>NaN</td>\n      <td>NaN</td>\n      <td>NaN</td>\n      <td>http://www.avmc-hospital.org/</td>\n      <td>NaN</td>\n    </tr>\n    <tr>\n      <th>2</th>\n      <td>http://www.lifepointhealth.net/making-communit...</td>\n      <td>True</td>\n      <td>1.588745e+09</td>\n      <td>https://www.bluegrasscommunityhospital.com/</td>\n      <td>https://www.bluegrasscommunityhospital.com/und...</td>\n      <td>bluegrass-community-hospital</td>\n      <td>NaN</td>\n      <td>NaN</td>\n      <td>NaN</td>\n      <td>NaN</td>\n      <td>http://www.bluegrasscommunityhospital.com/</td>\n      <td>/sites/bluegrass/assets/uploads/522260534_Blue...</td>\n    </tr>\n    <tr>\n      <th>3</th>\n      <td>http://www.lifepointhealth.net/making-communit...</td>\n      <td>True</td>\n      <td>1.457321e+09</td>\n      <td>https://www.bolivarmedical.com/</td>\n      <td>https://www.bolivarmedical.com/understanding-b...</td>\n      <td>bolivar-medical-center</td>\n      <td>NaN</td>\n      <td>https://www.bolivarmedical.com/</td>\n      <td>Bolivar Medical Center</td>\n      <td>Cleveland MS Hospital</td>\n      <td>http://www.bolivarmedical.com/</td>\n      <td>/Content/Uploads/Bolivar Medical/files/6409230...</td>\n    </tr>\n    <tr>\n      <th>4</th>\n      <td>http://www.lifepointhealth.net/making-communit...</td>\n      <td>True</td>\n      <td>1.427132e+09</td>\n      <td>https://www.bourbonhospital.com/</td>\n      <td>https://www.bourbonhospital.com/understanding-...</td>\n      <td>bourbon-community-hospital</td>\n      <td>NaN</td>\n      <td>https://www.bourbonhospital.com/</td>\n      <td>Bourbon Community Hospital</td>\n      <td>NaN</td>\n      <td>http://www.bourbonhospital.com/</td>\n      <td>/sites/bourbon/assets/uploads/621757924_Bourbo...</td>\n    </tr>\n  </tbody>\n</table>\n</div>",
      "text/plain": "                                  full redirect link  hospital?           npi  \\\n0  http://www.lifepointhealth.net/making-communit...       True  1.821078e+09   \n1  http://www.lifepointhealth.net/making-communit...       True  1.457321e+09   \n2  http://www.lifepointhealth.net/making-communit...       True  1.588745e+09   \n3  http://www.lifepointhealth.net/making-communit...       True  1.457321e+09   \n4  http://www.lifepointhealth.net/making-communit...       True  1.427132e+09   \n\n                                       website  \\\n0             https://www.andalusiahealth.com/   \n1              https://www.ashleyregional.com/   \n2  https://www.bluegrasscommunityhospital.com/   \n3             https://www.bolivarmedical.com/    \n4            https://www.bourbonhospital.com/    \n\n                                         charge page  \\\n0  https://www.andalusiahealth.com/understanding-...   \n1  https://www.ashleyregional.com/understanding-b...   \n2  https://www.bluegrasscommunityhospital.com/und...   \n3  https://www.bolivarmedical.com/understanding-b...   \n4  https://www.bourbonhospital.com/understanding-...   \n\n                             name notes                             onetab  \\\n0     andalusia-regional-hospital   NaN                                NaN   \n1  ashley-regional-medical-center   NaN                                NaN   \n2    bluegrass-community-hospital   NaN                                NaN   \n3          bolivar-medical-center   NaN   https://www.bolivarmedical.com/    \n4      bourbon-community-hospital   NaN  https://www.bourbonhospital.com/    \n\n                    Unnamed:_9             Unnamed:_10  \\\n0                          NaN                     NaN   \n1                          NaN                     NaN   \n2                          NaN                     NaN   \n3      Bolivar Medical Center    Cleveland MS Hospital   \n4   Bourbon Community Hospital                     NaN   \n\n                                     website2  \\\n0             http://www.andalusiahealth.com/   \n1               http://www.avmc-hospital.org/   \n2  http://www.bluegrasscommunityhospital.com/   \n3              http://www.bolivarmedical.com/   \n4             http://www.bourbonhospital.com/   \n\n                                             zip_url  \n0  /Content/Uploads/Andalusia Health/images/63079...  \n1                                                NaN  \n2  /sites/bluegrass/assets/uploads/522260534_Blue...  \n3  /Content/Uploads/Bolivar Medical/files/6409230...  \n4  /sites/bourbon/assets/uploads/621757924_Bourbo...  "
     },
     "execution_count": 51,
     "metadata": {},
     "output_type": "execute_result"
    }
   ],
   "source": [
    "# !pip install openpyxl\r\n",
    "# import website links\r\n",
    "lp = pd.read_excel(r\"C:\\Users\\fedde\\hospital-price-transparency-v2\\lifepoint_free_hosp.xlsx\",sheet_name='links')\r\n",
    "lp.columns=lp.columns.str.replace(\" \",\"_\",regex=False).str.replace(\"?\",\"\",regex=False)\r\n",
    "\r\n",
    "print(lp.info())\r\n",
    "lp.head()\r\n",
    "lp.columns=lp.columns.str.replace(\" \",\"_\",regex=False).str.replace(\"?\",\"\",regex=False)\r\n",
    "lp['website2']=lp['full_redirect_link'].apply(get_hosp_url)\r\n",
    "lp['zip_url']=lp['charge_page'].apply(get_zip_url)\r\n",
    "lp.zip_url.notna().sum()\r\n",
    "lp.to_csv(\"lp_links_webscrape.csv\")"
   ]
  },
  {
   "cell_type": "markdown",
   "metadata": {},
   "source": [
    "# prime health services"
   ]
  },
  {
   "cell_type": "code",
   "execution_count": 3,
   "metadata": {},
   "outputs": [],
   "source": [
    "def get_url_by_filetype(url,filetype, backup='.zip'):\r\n",
    "    \"\"\"gets link for  file\r\n",
    "\r\n",
    "    Args:\r\n",
    "        url (string): link to webpage containing standard charges and billing information\r\n",
    "\r\n",
    "    Returns:\r\n",
    "        [type]:  url of file containing standard charges\r\n",
    "    \"\"\"\r\n",
    "    try:\r\n",
    "        # create link based on pattern among lifepoint stuff\r\n",
    "        # hosp_url=url+\"understanding-billing-and-charges\"\r\n",
    "        hosp_url=url\r\n",
    "        # Use requests to retrieve data from a given URL\r\n",
    "        hosp_res=requests.get(hosp_url)\r\n",
    "\r\n",
    "        # Parse the whole HTML page using BeautifulSoup\r\n",
    "        hosp_soup = BeautifulSoup(hosp_res.text, 'html.parser')\r\n",
    "\r\n",
    "        # Title of the parsed page\r\n",
    "        hosp_soup.title\r\n",
    "\r\n",
    "        BeautifulSoup(hosp_res.text, 'html.parser').find\r\n",
    "\r\n",
    "        # Find all links\r\n",
    "        # links = [link.get('href') for link in hosp_soup.find_all('a')]\r\n",
    "        # links_billing = [a['href'] for a in hosp_soup.find_all('a', href=True) if a.text=='here']\r\n",
    "        links_billing = [a['href'] for a in hosp_soup.find_all('a', href=True) if (a['href'].endswith(filetype) | a['href'].endswith(backup))]\r\n",
    "        \r\n",
    "        # check if there is stuff in there\r\n",
    "        if len(links_billing)>0:\r\n",
    "            new_url = links_billing[0]\r\n",
    "        # elif:\r\n",
    "            # new_url = [a['href'] for a in hosp_soup.find_all('a', href=True) if a['href'].endswith(backup)][0]\r\n",
    "        else:\r\n",
    "            new_url=np.nan\r\n",
    "    except:\r\n",
    "        new_url=np.nan\r\n",
    "    \r\n",
    "    return new_url\r\n"
   ]
  },
  {
   "cell_type": "code",
   "execution_count": 4,
   "metadata": {},
   "outputs": [
    {
     "name": "stdout",
     "output_type": "stream",
     "text": [
      "not nas: 27\n"
     ]
    }
   ],
   "source": [
    "# !pip install openpyxl\r\n",
    "# import website links\r\n",
    "file_name = r\"prime.xlsx\"\r\n",
    "sheet = 'links'\r\n",
    "prime = pd.read_excel(file_name,sheet_name=sheet)\r\n",
    "prime.columns=prime.columns.str.replace(\" \",\"_\",regex=False).str.replace(\"?\",\"\",regex=False)\r\n",
    "\r\n",
    "\r\n",
    "# prime['website2']=prime['full_redirect_link'].apply(get_hosp_url)\r\n",
    "prime['file_url']=prime['charge_page'].apply(lambda x: get_url_by_filetype(x, '.json','.zip'))\r\n",
    "print(\"not nas: \"+str(prime.file_url.notna().sum()))\r\n",
    "prime.to_csv(\"prime_links_webscrape.csv\")"
   ]
  },
  {
   "cell_type": "code",
   "execution_count": null,
   "metadata": {},
   "outputs": [],
   "source": [
    "def get_url_by_filetype(url,suffixes,filetype, backup='.zip'):\r\n",
    "    \"\"\"gets link for  file\r\n",
    "\r\n",
    "    Args:\r\n",
    "        url (string): link to webpage containing standard charges and billing information\r\n",
    "\r\n",
    "    Returns:\r\n",
    "        [type]:  url of file containing standard charges\r\n",
    "    \"\"\"\r\n",
    "    for suffix in suffixes:\r\n",
    "        try:\r\n",
    "            # create link based on pattern among lifepoint stuff\r\n",
    "            # hosp_url=url+\"understanding-billing-and-charges\"\r\n",
    "            hosp_url=url\r\n",
    "            # Use requests to retrieve data from a given URL\r\n",
    "            hosp_res=requests.get(hosp_url)\r\n",
    "\r\n",
    "            # Parse the whole HTML page using BeautifulSoup\r\n",
    "            hosp_soup = BeautifulSoup(hosp_res.text, 'html.parser')\r\n",
    "\r\n",
    "            # Title of the parsed page\r\n",
    "            hosp_soup.title\r\n",
    "\r\n",
    "            BeautifulSoup(hosp_res.text, 'html.parser').find\r\n",
    "\r\n",
    "            # Find all links\r\n",
    "            # links = [link.get('href') for link in hosp_soup.find_all('a')]\r\n",
    "            # links_billing = [a['href'] for a in hosp_soup.find_all('a', href=True) if a.text=='here']\r\n",
    "            links_billing = [a['href'] for a in hosp_soup.find_all('a', href=True) if (a['href'].endswith(filetype) | a['href'].endswith(backup))]\r\n",
    "            \r\n",
    "            # check if there is stuff in there\r\n",
    "            if len(links_billing)>0:\r\n",
    "                new_url = links_billing[0]\r\n",
    "            # elif:\r\n",
    "                # new_url = [a['href'] for a in hosp_soup.find_all('a', href=True) if a['href'].endswith(backup)][0]\r\n",
    "            else:\r\n",
    "                new_url=np.nan\r\n",
    "        except:\r\n",
    "            new_url=np.nan\r\n",
    "        \r\n",
    "    return new_url\r\n"
   ]
  }
 ],
 "metadata": {
  "kernelspec": {
   "display_name": "Python 3.9.2 64-bit ('dolt2': conda)",
   "name": "python392jvsc74a57bd0916587aa275252aefce5131fa9e0599cd6bf2ef4fa83787349ed85c24adc0fe3"
  },
  "language_info": {
   "codemirror_mode": {
    "name": "ipython",
    "version": 3
   },
   "file_extension": ".py",
   "mimetype": "text/x-python",
   "name": "python",
   "nbconvert_exporter": "python",
   "pygments_lexer": "ipython3",
   "version": "3.9.2"
  },
  "orig_nbformat": 2
 },
 "nbformat": 4,
 "nbformat_minor": 2
}