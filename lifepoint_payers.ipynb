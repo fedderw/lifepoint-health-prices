{
 "cells": [
  {
   "cell_type": "code",
   "execution_count": 2,
   "metadata": {},
   "outputs": [],
   "source": [
    "import pandas as pd\r\n",
    "import numpy as np\r\n",
    "import json\r\n",
    "import csv\r\n",
    "import glob"
   ]
  },
  {
   "cell_type": "code",
   "execution_count": 3,
   "metadata": {},
   "outputs": [],
   "source": [
    "t = 'prices'\r\n",
    "# define folder where file is located\r\n",
    "directory = 'D:\\dolthub-hospital\\dolthub-hospital\\\\'+t\r\n",
    "total_rows=0\r\n",
    "for path in glob.iglob(f'{directory}/*.csv'):\r\n",
    "    with open(path, 'r') as f:\r\n",
    "        rows= list(csv.reader(f))\r\n",
    "        total_rows+=len(rows)\r\n",
    "        \r\n",
    "cells = total_rows*7"
   ]
  },
  {
   "cell_type": "code",
   "execution_count": 11,
   "metadata": {},
   "outputs": [
    {
     "name": "stdout",
     "output_type": "stream",
     "text": [
      "16971920\n"
     ]
    }
   ],
   "source": [
    "cells = total_rows*7\r\n",
    "print(cells)"
   ]
  },
  {
   "cell_type": "code",
   "execution_count": 10,
   "metadata": {},
   "outputs": [
    {
     "name": "stdout",
     "output_type": "stream",
     "text": [
      "D:\\dolthub-hospital\\dolthub-hospital\\payers\\1457321036.csv\n",
      "D:\\dolthub-hospital\\dolthub-hospital\\payers\\bolivar_medical_center_1457321036.csv\n",
      "D:\\dolthub-hospital\\dolthub-hospital\\payers\\conemaugh_health_system_1801897038.csv\n",
      "D:\\dolthub-hospital\\dolthub-hospital\\payers\\fleming_county_hospital_1881726347.csv\n",
      "D:\\dolthub-hospital\\dolthub-hospital\\payers\\havasu_regional_medical_center_1780761866.csv\n",
      "D:\\dolthub-hospital\\dolthub-hospital\\payers\\livingston_regional_hospital_1396760542.csv\n",
      "D:\\dolthub-hospital\\dolthub-hospital\\payers\\nason_hospital_1497708473.csv\n",
      "D:\\dolthub-hospital\\dolthub-hospital\\payers\\palestine_regional_medical_center_1326113762.csv\n",
      "D:\\dolthub-hospital\\dolthub-hospital\\payers\\person_memorial__1881977593.csv\n",
      "D:\\dolthub-hospital\\dolthub-hospital\\payers\\riverview_regional_medical_center_1922319037.csv\n",
      "D:\\dolthub-hospital\\dolthub-hospital\\payers\\rutherford_regional_medical_center_1245321181.csv\n",
      "D:\\dolthub-hospital\\dolthub-hospital\\payers\\sage_west_1396842308.csv\n",
      "D:\\dolthub-hospital\\dolthub-hospital\\payers\\sovah_health_danville_1154419737.csv\n",
      "D:\\dolthub-hospital\\dolthub-hospital\\payers\\sovah_health_martinsville_1386720183.csv\n",
      "D:\\dolthub-hospital\\dolthub-hospital\\payers\\trousdale_medical_center_1467763458.csv\n",
      "D:\\dolthub-hospital\\dolthub-hospital\\payers\\valley_view_medical_center_1811086994.csv\n",
      "D:\\dolthub-hospital\\dolthub-hospital\\payers\\western_plains_medical_complex_1336231232.csv\n"
     ]
    }
   ],
   "source": [
    "t = 'payers'\r\n",
    "# define folder where file is located\r\n",
    "directory = 'D:\\dolthub-hospital\\dolthub-hospital\\\\'+t\r\n",
    "payer_set = set()\r\n",
    "for path in glob.iglob(f'{directory}/*.csv'):\r\n",
    "    print(path)\r\n",
    "    df = pd.read_csv(path)\r\n",
    "    for val in df.iloc[:,0].values:\r\n",
    "        payer_set.add(val)\r\n",
    "    # unique\r\n",
    "\r\n",
    "pd.DataFrame(payer_set).to_csv('payers\\lifepoint_batch1_payer_set.csv',index=False)"
   ]
  }
 ],
 "metadata": {
  "kernelspec": {
   "display_name": "Python 3.9.2 64-bit ('dolt': conda)",
   "name": "python392jvsc74a57bd0cd67a7fe0f919797fdba7d07e126a3686c7473d39e6e1725a765d7f7d14c3456"
  },
  "language_info": {
   "codemirror_mode": {
    "name": "ipython",
    "version": 3
   },
   "file_extension": ".py",
   "mimetype": "text/x-python",
   "name": "python",
   "nbconvert_exporter": "python",
   "pygments_lexer": "ipython3",
   "version": "3.9.2"
  },
  "orig_nbformat": 2
 },
 "nbformat": 4,
 "nbformat_minor": 2
}